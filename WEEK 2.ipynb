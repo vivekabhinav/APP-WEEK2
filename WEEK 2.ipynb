{
 "cells": [
  {
   "cell_type": "code",
   "execution_count": 2,
   "metadata": {},
   "outputs": [
    {
     "name": "stdout",
     "output_type": "stream",
     "text": [
      "2\n",
      "4 3\n",
      "-1 -3 4 2\n",
      "YES\n",
      "4 2\n",
      "0 -1 2 1\n",
      "NO\n"
     ]
    }
   ],
   "source": [
    "#PROGRAM 4\n",
    "t = int(input())\n",
    "for tests in range(t):\n",
    "    n,k = [int(x) for x in input().split()]\n",
    "    s = 0\n",
    "    for x in input().split():\n",
    "        y = int(x)\n",
    "        if y <= 0:\n",
    "            s += 1\n",
    "    if s < k:\n",
    "        print('YES')\n",
    "    else:\n",
    "        print('NO')"
   ]
  },
  {
   "cell_type": "code",
   "execution_count": 3,
   "metadata": {},
   "outputs": [
    {
     "name": "stdout",
     "output_type": "stream",
     "text": [
      "2\n",
      "5 2 1\n",
      "2\n",
      "5 2 2\n",
      "3\n"
     ]
    }
   ],
   "source": [
    "#PROGRAM 5\n",
    "t = int(input())\n",
    "while t > 0:\n",
    "    t -= 1\n",
    "    n,m,s = map(int, input().strip().split(' '))\n",
    "    k = (s+m-1)%n\n",
    "    if(k==0):\n",
    "        print (n)\n",
    "    else:\n",
    "         print (k) "
   ]
  },
  {
   "cell_type": "code",
   "execution_count": 2,
   "metadata": {},
   "outputs": [
    {
     "name": "stdout",
     "output_type": "stream",
     "text": [
      "6\n",
      "5 4 4 2 2 8\n",
      "6\n",
      "4\n",
      "2\n",
      "1\n"
     ]
    }
   ],
   "source": [
    "#PROGRAM 6\n",
    "n = int(input())\n",
    "s = [int(x) for x in input().split(\" \")]\n",
    "\n",
    "print(len(s))\n",
    "while len(s):\n",
    "    cut = min(s)\n",
    "    new_s = []\n",
    "    for c in s:\n",
    "        # print(c, cut)\n",
    "        if c > cut:\n",
    "            new_s.append(c-cut)\n",
    "    if len(new_s):\n",
    "        print(len(new_s))\n",
    "    s = new_s\n"
   ]
  },
  {
   "cell_type": "code",
   "execution_count": 6,
   "metadata": {},
   "outputs": [
    {
     "name": "stdout",
     "output_type": "stream",
     "text": [
      "6\n",
      "0 0 0 0 1 2\n",
      "4\n"
     ]
    }
   ],
   "source": [
    "#PROGRAM 7\n",
    "n = int(input().strip())\n",
    "c = [int(c_temp) for c_temp in input().strip().split(' ')]\n",
    "\n",
    "steps = 0\n",
    "current = 0\n",
    "while current < n-1:\n",
    "    if current+2<n and c[current+2] == 0:\n",
    "        steps +=1\n",
    "        current += 2\n",
    "    else:\n",
    "        steps +=1\n",
    "        current += 1\n",
    "        \n",
    "print(steps)"
   ]
  },
  {
   "cell_type": "code",
   "execution_count": 8,
   "metadata": {},
   "outputs": [
    {
     "name": "stdout",
     "output_type": "stream",
     "text": [
      "7 3\n",
      "1 2 4 5 7 8 10\n",
      "3\n"
     ]
    }
   ],
   "source": [
    "#PROGRAM 8\n",
    "n, d = map(int, input().split())\n",
    "a = list(map(int, input().split()))\n",
    "cnt = {}\n",
    "left = []\n",
    "for x in a:\n",
    "    left.append(cnt.get(x-d, 0))\n",
    "    if x not in cnt:\n",
    "        cnt[x] = 0\n",
    "    cnt[x] += 1\n",
    "left = left[::-1]\n",
    "cnt = {}\n",
    "res = 0\n",
    "for i, x in enumerate(a[::-1]):\n",
    "    res += left[i] * cnt.get(x+d, 0)\n",
    "    cnt[x] = cnt.get(x, 0) + 1\n",
    "print(res)"
   ]
  },
  {
   "cell_type": "code",
   "execution_count": 10,
   "metadata": {},
   "outputs": [
    {
     "name": "stdout",
     "output_type": "stream",
     "text": [
      "8\n",
      "GAAATAAA\n",
      "5\n"
     ]
    }
   ],
   "source": [
    "#PROGRAM 9\n",
    "\n",
    "def solve(S,n) :\n",
    "    count = {}\n",
    "    for c in S :\n",
    "        count[c] = count.get(c,0) + 1\n",
    "\n",
    "    for c in count :\n",
    "        if count[c] > n//4 :\n",
    "            count[c] = count[c]-n//4\n",
    "        else :\n",
    "            count[c] = 0\n",
    "\n",
    "    if sum(count[c] for c in count) == 0 :\n",
    "        return 0\n",
    "    \n",
    "\n",
    "    \n",
    "    count2 = {}\n",
    "    i,j,best = 0,0,n\n",
    "    while j < n :\n",
    "        while j < n and any(count2.get(c,0) < count[c] for c in count) :\n",
    "            count2[S[j]] = count2.get(S[j],0) + 1\n",
    "            j += 1\n",
    "        while all(count2.get(c,0) >= count[c] for c in count) :\n",
    "            count2[S[i]] = count2.get(S[i],0) - 1\n",
    "            i += 1\n",
    "        if j-i+1 < best :\n",
    "            best = j-i+1\n",
    "    return best\n",
    "    \n",
    "n = int(input())\n",
    "S = input()\n",
    "print(solve(S,n))"
   ]
  },
  {
   "cell_type": "code",
   "execution_count": 1,
   "metadata": {},
   "outputs": [
    {
     "name": "stdout",
     "output_type": "stream",
     "text": [
      "5\n",
      "1 1 2 2 3\n",
      "1\n"
     ]
    }
   ],
   "source": [
    "#Program1\n",
    "import sys\n",
    "from collections import Counter\n",
    "\n",
    "n = int(input().strip())\n",
    "types = list(map(int, input().strip().split(' ')))\n",
    "freq = Counter(types)\n",
    "print(max(freq, key=freq.get))"
   ]
  },
  {
   "cell_type": "code",
   "execution_count": 2,
   "metadata": {},
   "outputs": [
    {
     "name": "stdout",
     "output_type": "stream",
     "text": [
      "5\n",
      "2 2 1 2 3\n",
      "4 2\n",
      "1\n"
     ]
    }
   ],
   "source": [
    "#Program 2\n",
    "n = int(input())\n",
    "s = list(map(int, input().split()))\n",
    "d, m = map(int, input().split())\n",
    "\n",
    "ans = 0\n",
    "for i in range(n-m+1):\n",
    "    if (sum(s[i:i+m]) == d):\n",
    "        ans += 1\n",
    "        \n",
    "print(ans)"
   ]
  },
  {
   "cell_type": "code",
   "execution_count": 5,
   "metadata": {},
   "outputs": [
    {
     "name": "stdout",
     "output_type": "stream",
     "text": [
      "4 1\n",
      "3 10 2 9\n",
      "12\n",
      "5\n"
     ]
    }
   ],
   "source": [
    "#Program 3\n",
    "n, k = map(int, input().split())\n",
    "a = list(map(int, input().split()))\n",
    "b = int(input())\n",
    "\n",
    "x = sum(a) - a[k]\n",
    "if 2 * b == x: print(\"SAME CHARGE\")\n",
    "else: print(a[k] // 2)"
   ]
  },
  {
   "cell_type": "code",
   "execution_count": null,
   "metadata": {},
   "outputs": [
    {
     "name": "stdout",
     "output_type": "stream",
     "text": [
      "Guess the 4 digit number:7589\n",
      "Not quite the number. But you did get  1  digit(s) correct!\n",
      "Also these numbers in your input were correct.\n",
      "7 X X X \n",
      "\n",
      "\n",
      "\n"
     ]
    }
   ],
   "source": [
    "#Program 11\n",
    "import random  \n",
    "num = random.randrange(1000, 10000)   \n",
    "  \n",
    "n = int(input(\"Guess the 4 digit number:\")) \n",
    "  \n",
    "\n",
    "if (n == num):   \n",
    "    print(\"Great! You guessed the number in just 1 try! You're a Mastermind!\") \n",
    "else: \n",
    "    \n",
    "    ctr = 0  \n",
    "  \n",
    "    \n",
    "    while (n != num):   \n",
    "       \n",
    "        ctr += 1  \n",
    "  \n",
    "        count = 0\n",
    "  \n",
    "        \n",
    "        n = str(n)   \n",
    "  \n",
    "        \n",
    "        num = str(num)   \n",
    "  \n",
    "        \n",
    "        correct = ['X']*4  \n",
    "  \n",
    "         \n",
    "        for i in range(0, 4):  \n",
    "  \n",
    "              \n",
    "            if (n[i] == num[i]):   \n",
    "                \n",
    "                count += 1  \n",
    "                 \n",
    "                correct[i] = n[i]   \n",
    "            else: \n",
    "                continue\n",
    "  \n",
    "         \n",
    "        if (count < 4) and (count != 0):   \n",
    "            print(\"Not quite the number. But you did get \", count, \" digit(s) correct!\") \n",
    "            print(\"Also these numbers in your input were correct.\") \n",
    "            for k in correct: \n",
    "                print(k, end=' ') \n",
    "            print('\\n') \n",
    "            print('\\n') \n",
    "            n = int(input(\"Enter your next choice of numbers: \")) \n",
    "  \n",
    "        \n",
    "        elif (count == 0):   \n",
    "            print(\"None of the numbers in your input match.\") \n",
    "            n = int(input(\"Enter your next choice of numbers: \")) \n",
    "  \n",
    "     \n",
    "    if n == num:   \n",
    "        print(\"You've become a Mastermind!\") \n",
    "        print(\"It took you only\", ctr, \"tries.\")"
   ]
  },
  {
   "cell_type": "code",
   "execution_count": null,
   "metadata": {},
   "outputs": [],
   "source": []
  },
  {
   "cell_type": "code",
   "execution_count": null,
   "metadata": {},
   "outputs": [],
   "source": []
  }
 ],
 "metadata": {
  "kernelspec": {
   "display_name": "Python 3",
   "language": "python",
   "name": "python3"
  },
  "language_info": {
   "codemirror_mode": {
    "name": "ipython",
    "version": 3
   },
   "file_extension": ".py",
   "mimetype": "text/x-python",
   "name": "python",
   "nbconvert_exporter": "python",
   "pygments_lexer": "ipython3",
   "version": "3.7.4"
  }
 },
 "nbformat": 4,
 "nbformat_minor": 2
}
